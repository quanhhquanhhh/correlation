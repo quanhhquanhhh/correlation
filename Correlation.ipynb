{
  "nbformat": 4,
  "nbformat_minor": 0,
  "metadata": {
    "colab": {
      "provenance": []
    },
    "kernelspec": {
      "name": "python3",
      "display_name": "Python 3"
    },
    "language_info": {
      "name": "python"
    }
  },
  "cells": [
    {
      "cell_type": "code",
      "execution_count": null,
      "metadata": {
        "colab": {
          "base_uri": "https://localhost:8080/"
        },
        "id": "BZO46PSJU62p",
        "outputId": "643e3579-6308-4cc6-b128-7feb993060e2"
      },
      "outputs": [
        {
          "output_type": "stream",
          "name": "stdout",
          "text": [
            "{'Covariance': 350.39019472361804, 'Variance_TV': 7370.94989321608, 'Variance_Sales': 27.22185301507538, 'Pearson_Correlation': 0.7822244248616061, 'Theta_radians': 0.6725679458329464, 'Theta_degrees': 38.53530473201119}\n"
          ]
        }
      ],
      "source": [
        "import pandas as pd\n",
        "import numpy as np\n",
        "import math\n",
        "\n",
        "url = \"https://raw.githubusercontent.com/selva86/datasets/master/Advertising.csv\"\n",
        "data = pd.read_csv(url)\n",
        "\n",
        "x = data.iloc[:, 1]\n",
        "y = data.iloc[:, 4]\n",
        "\n",
        "cov_matrix = np.cov(x, y)\n",
        "cov_value = cov_matrix[0][1]\n",
        "\n",
        "var_x = np.var(x, ddof=1)\n",
        "var_y = np.var(y, ddof=1)\n",
        "\n",
        "pearson_corr = np.corrcoef(x, y)[0, 1]\n",
        "\n",
        "theta_radians = math.acos(pearson_corr)\n",
        "theta_degrees = math.degrees(theta_radians)\n",
        "\n",
        "results = {\n",
        "    \"Covariance\": cov_value,\n",
        "    \"Variance_TV\": var_x,\n",
        "    \"Variance_Sales\": var_y,\n",
        "    \"Pearson_Correlation\": pearson_corr,\n",
        "    \"Theta_radians\": theta_radians,\n",
        "    \"Theta_degrees\": theta_degrees\n",
        "}\n",
        "\n",
        "print(results)\n"
      ]
    }
  ]
}